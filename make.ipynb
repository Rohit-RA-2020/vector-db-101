{
 "cells": [
  {
   "cell_type": "code",
   "execution_count": 23,
   "metadata": {},
   "outputs": [],
   "source": [
    "from sentence_transformers import SentenceTransformer\n",
    "\n",
    "model = SentenceTransformer('sentence-transformers/all-MiniLM-L6-v2')"
   ]
  },
  {
   "cell_type": "code",
   "execution_count": null,
   "metadata": {},
   "outputs": [],
   "source": [
    "from qdrant_client import QdrantClient\n",
    "\n",
    "client = QdrantClient(\"YOUR_QDRANT_URL\", api_key=\"YOUR_API_KEY\")"
   ]
  },
  {
   "cell_type": "code",
   "execution_count": 65,
   "metadata": {},
   "outputs": [
    {
     "name": "stdout",
     "output_type": "stream",
     "text": [
      "{'content': \"Carry your hunger savers How's your routine when you travel? Maybe, it's quite different from your day to day routine. Your food choices may vary Your activity levels may vary Your sleep routine might change When these changes happen, your meal timings will most certainly change. To adapt to the changing meal timings, it really helps if you carry hunger savers. Just to remind you, hunger savers are food items with less than 100 calories. They help you prevent reaching hunger level 4 for 30-60 minutes. Here are few examples of hunger savers: ✅   Nuts ✅   Fruits ✅   Cucumber, carrots and other veggies ✅   Popcorn\", 'day': 199, 'level': 7, 'lesson': 11, 'section': 3, 'keywords': None}\n",
      "{'content': \"Carry your hunger savers How's your routine when you travel? Maybe, it's quite different from your day to day routine. Your food choices may vary Your activity levels may vary Your sleep routine might change When these changes happen, your meal timings will most certainly change. To adapt to the changing meal timings, it really helps if you carry hunger savers. Just to remind you, hunger savers are food items with less than 100 calories. They help you prevent reaching hunger level 4 for 30-60 minutes. Here are few examples of hunger savers: ✅   Nuts ✅   Fruits ✅   Cucumber, carrots and other veggies ✅   Popcorn\", 'day': 98, 'level': 3, 'lesson': 6, 'section': 3, 'keywords': None}\n",
      "{'content': \"Hunger Wheel Thank you for sticking so far. Now, we're going to talk about a super important thing - The Psychology behind eating. When we're on our weight loss journey, most of us focus on 'what' we eat. But 'why' we eat is equally important for long term weight loss. The reasons why we eat range from thirst to habit and boredom. Let's talk about HUNGER in the next few sessions. A lot of factors influence our food timings, food choices and appetite. Yes, we eat when we are hungry. But there are a lot of other factors which make us eat. We call it the hunger wheel.  The wheel consists of: Boredom: Munching on a packet of chips while checking out your phone - sounds relatable? Thirst: Yes, our body gets confused between hunger and thirst. So we feel hungry when in reality we are thirsty Stress: Ever got cravings for junk food when you were stressed? Reward: Remember eating your favourite food after achieving something? Social Pressure: Isn't it hard to say 'No' when someone, specially our loved ones offer us food? Environmental trigger: Remember eating something because you just saw it on the street & immediately started craving for it? Whenever you are eating, it's very important to recognise why you are eating. If you're constantly fighting cravings… If you feel hungry all the time. If you're constantly snacking between meals… Then ask - Am I hungry or am I trying to change how I feel? Am I bored? Anxious? Could it be that you're looking to relieve stress? That you need an escape from a bad day? Perhaps you're not craving food at all. What if all you're craving for is a moment of joy? A moment to yourself where you just get lost in the food? You see, food is just a band-aid. It suppresses the problem, but it doesn't make it go away. To change how you feel and react to cravings, you first have to see what's causing them. Then you can change your Mindset, Psychology, and Habits around them. Health Tick has got you covered with transformative tools for all such challenges. Rest assured we're going to talk about all specific challenges in coming sessions. You'll be able to deal with all your eating problems, be it stress eating, boredom eating, social pressure, cravings, triggers, etc. in the upcoming few weeks. All you need to do it, complete your daily task. Alright?. Understanding why we eat and how the body responds to food energy and feelings of hunger is key to developing eating habits that can be sustained for life.\", 'day': 3, 'level': 2, 'lesson': 1, 'section': 3, 'keywords': ['Hunger wheel', 'physcology behind eating']}\n"
     ]
    }
   ],
   "source": [
    "import json\n",
    "\n",
    "query_embeddings = model.encode(\"What are Hunger Savers?\")\n",
    "\n",
    "search_result = client.search(\n",
    "    collection_name='db-ht-program',\n",
    "    query_vector=query_embeddings,\n",
    "    limit=3,\n",
    "    with_payload=True,\n",
    ")\n",
    "\n",
    "results = \"\"\n",
    "\n",
    "for result in search_result:\n",
    "    print(result.payload)\n",
    "    results += json.dumps(result.payload)  # Convert the payload to a JSON string\n",
    "\n",
    "# print(results)  # Print the combined results\n"
   ]
  },
  {
   "cell_type": "code",
   "execution_count": 70,
   "metadata": {},
   "outputs": [
    {
     "name": "stdout",
     "output_type": "stream",
     "text": [
      "Based on the given context, Hunger Savers are food items with less than 100 calories that help prevent reaching hunger level 4 for 30-60 minutes. Here are some examples of Hunger Savers:\n",
      "\n",
      "* Nuts\n",
      "* Fruits (e.g., apples, bananas)\n",
      "* Cucumber, carrots, and other veggies\n",
      "* Popcorn\n",
      "\n",
      "These small, nutritious snacks can be carried with you to help manage hunger levels when meal timings change, such as during travel or on-the-go situations.\n"
     ]
    }
   ],
   "source": [
    "import ollama\n",
    "\n",
    "system_prompt = f'''\n",
    "You are an assistant specialized in providing answers based on the context from the HealthTick Program.\n",
    "\n",
    "Here is the relevant context:\n",
    "{results}\n",
    "\n",
    "Using the information above, please answer the following question.\n",
    "'''\n",
    "\n",
    "response = ollama.generate(model=\"llama3.1:8b\", prompt=f\"What are Hunger Savers with examples? answer based on the given context {results}\")\n",
    "\n",
    "print(response['response'])"
   ]
  },
  {
   "cell_type": "code",
   "execution_count": null,
   "metadata": {},
   "outputs": [],
   "source": []
  }
 ],
 "metadata": {
  "kernelspec": {
   "display_name": "Python 3",
   "language": "python",
   "name": "python3"
  },
  "language_info": {
   "codemirror_mode": {
    "name": "ipython",
    "version": 3
   },
   "file_extension": ".py",
   "mimetype": "text/x-python",
   "name": "python",
   "nbconvert_exporter": "python",
   "pygments_lexer": "ipython3",
   "version": "3.11.10"
  }
 },
 "nbformat": 4,
 "nbformat_minor": 2
}
